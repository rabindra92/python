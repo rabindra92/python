{
 "cells": [
  {
   "cell_type": "code",
   "execution_count": 2,
   "id": "80f9068a",
   "metadata": {},
   "outputs": [
    {
     "name": "stdout",
     "output_type": "stream",
     "text": [
      "Hello Student\n"
     ]
    }
   ],
   "source": [
    "def firstFunction():\n",
    "    print(\"Hello Student\")\n",
    "\n",
    "firstFunction()"
   ]
  },
  {
   "cell_type": "code",
   "execution_count": 4,
   "id": "a1757dba",
   "metadata": {},
   "outputs": [
    {
     "name": "stdout",
     "output_type": "stream",
     "text": [
      "5\n"
     ]
    }
   ],
   "source": [
    "def add(a,b):\n",
    "    sum = a+b\n",
    "    return sum\n",
    "\n",
    "print(add(2,3))"
   ]
  },
  {
   "cell_type": "code",
   "execution_count": 8,
   "id": "a838a5d5",
   "metadata": {},
   "outputs": [
    {
     "name": "stdout",
     "output_type": "stream",
     "text": [
      "rabi good morning\n"
     ]
    }
   ],
   "source": [
    "#Default Argument\n",
    "\n",
    "def greet(name,message='good morning'):#default argument works when we dod not pass any values\n",
    "    print(name,message)\n",
    "    \n",
    "greet('rabi')"
   ]
  },
  {
   "cell_type": "code",
   "execution_count": 9,
   "id": "b7ae7fe9",
   "metadata": {},
   "outputs": [
    {
     "name": "stdout",
     "output_type": "stream",
     "text": [
      "Hello Rabi your age 99\n"
     ]
    }
   ],
   "source": [
    "#Keyword arguments\n",
    "\n",
    "def greet(name,age,message):\n",
    "    print(message,name,\"your age\",age)\n",
    "    \n",
    "greet(name='Rabi',age=99, message='Hello') #When passing keyword argument then we should pass all argument as keyword argument"
   ]
  },
  {
   "cell_type": "code",
   "execution_count": 10,
   "id": "f8871a8f",
   "metadata": {},
   "outputs": [
    {
     "name": "stdout",
     "output_type": "stream",
     "text": [
      "x 5\n",
      "y 6\n",
      "11\n"
     ]
    }
   ],
   "source": [
    "#Positional Arguments\n",
    "\n",
    "def add_numbers(x,y):\n",
    "    print(\"x\",x)\n",
    "    print(\"y\",y)\n",
    "    print(x+y)\n",
    "add_numbers(5,6)"
   ]
  },
  {
   "cell_type": "code",
   "execution_count": 13,
   "id": "125aed0c",
   "metadata": {},
   "outputs": [
    {
     "name": "stdout",
     "output_type": "stream",
     "text": [
      "<class 'tuple'>\n",
      "(1, 2, 3, 4, 5)\n"
     ]
    },
    {
     "data": {
      "text/plain": [
       "15"
      ]
     },
     "execution_count": 13,
     "metadata": {},
     "output_type": "execute_result"
    }
   ],
   "source": [
    "def sum_numbers(*args):\n",
    "    print(type(args))\n",
    "    print(args)\n",
    "    \n",
    "    sum=0\n",
    "    for i in args:\n",
    "        sum +=i\n",
    "    return sum\n",
    "\n",
    "sum_numbers(1,2,3,4,5)"
   ]
  },
  {
   "cell_type": "code",
   "execution_count": 15,
   "id": "b1c6875f",
   "metadata": {},
   "outputs": [
    {
     "name": "stdout",
     "output_type": "stream",
     "text": [
      "1\n",
      "2\n",
      "<class 'tuple'>\n",
      "(3, 4, 5)\n",
      "3 4 5\n"
     ]
    }
   ],
   "source": [
    "def sum_numbers(a,b,*args):#*args should define at last or if you need to explicitly define a and b value while calling\n",
    "    print(a)\n",
    "    print(b)\n",
    "    print(type(args))\n",
    "    print(args)\n",
    "    print(*args)\n",
    "\n",
    "sum_numbers(1,2,3,4,5)"
   ]
  },
  {
   "cell_type": "code",
   "execution_count": 18,
   "id": "5b94eca0",
   "metadata": {},
   "outputs": [
    {
     "name": "stdout",
     "output_type": "stream",
     "text": [
      "{'name': 'rabi', 'age': 99, 'city': 'Toronto'}\n",
      "<class 'dict'>\n",
      "name --> rabi\n",
      "age --> 99\n",
      "city --> Toronto\n"
     ]
    }
   ],
   "source": [
    "def display_info(**kwargs):\n",
    "    print(kwargs)\n",
    "    print(type(kwargs))\n",
    "    \n",
    "    for key, value in kwargs.items():\n",
    "        print(key,'-->',value)\n",
    "display_info(name='rabi',age=99,city='Toronto')"
   ]
  },
  {
   "cell_type": "code",
   "execution_count": 19,
   "id": "93c2b269",
   "metadata": {},
   "outputs": [
    {
     "name": "stdout",
     "output_type": "stream",
     "text": [
      "1\n",
      "2\n",
      "(3, 4, 5, 6)\n",
      "{'name': 'rabi', 'age': 99}\n"
     ]
    }
   ],
   "source": [
    "def func(a,b,*args,**kwargs):#**kwargs should be the last argument in the function\n",
    "    print(a)\n",
    "    print(b)\n",
    "    print(args)\n",
    "    print(kwargs)\n",
    "    \n",
    "func(1,2,3,4,5,6,name='rabi',age=99)"
   ]
  },
  {
   "cell_type": "code",
   "execution_count": 23,
   "id": "83dd4ac6",
   "metadata": {},
   "outputs": [
    {
     "name": "stdout",
     "output_type": "stream",
     "text": [
      "6\n"
     ]
    }
   ],
   "source": [
    "def add_numbers(a: int, b:int)->int:#this is type of a,b and return type\n",
    "    return a+b\n",
    "\n",
    "print(add_numbers(2,4))"
   ]
  },
  {
   "cell_type": "code",
   "execution_count": 26,
   "id": "2526478e",
   "metadata": {},
   "outputs": [
    {
     "name": "stdout",
     "output_type": "stream",
     "text": [
      "6\n",
      "original num: 5\n"
     ]
    }
   ],
   "source": [
    "#Pass by Value --> works when we have immutable data types(numbers, string, tuple)\n",
    "\n",
    "num = 5\n",
    "\n",
    "def modify_num(num):\n",
    "    num+=1\n",
    "    print(num)\n",
    "    \n",
    "modify_num(num)\n",
    "\n",
    "print(\"original num:\",num)"
   ]
  },
  {
   "cell_type": "code",
   "execution_count": 27,
   "id": "675678ac",
   "metadata": {},
   "outputs": [
    {
     "name": "stdout",
     "output_type": "stream",
     "text": [
      "before calling func: [1, 2, 3]\n",
      "after calling func: [1, 2, 3, 5]\n"
     ]
    }
   ],
   "source": [
    "#Pass by reference --> Mutable datatypes: List, Dictionary\n",
    "\n",
    "my_list=[1,2,3]\n",
    "def modify_list(my_list):\n",
    "    my_list.append(5)\n",
    "\n",
    "print(\"before calling func:\",my_list)\n",
    "modify_list(my_list)\n",
    "print('after calling func:',my_list)\n"
   ]
  },
  {
   "cell_type": "code",
   "execution_count": 29,
   "id": "42852bf6",
   "metadata": {},
   "outputs": [
    {
     "name": "stdout",
     "output_type": "stream",
     "text": [
      "15\n"
     ]
    }
   ],
   "source": [
    "#Lambda Function - It is nothing but annonymous function having no names.\n",
    "# it can take any number of arguments\n",
    "# having single expression\n",
    "\n",
    "func = lambda a : a+10\n",
    "print(func(5))"
   ]
  },
  {
   "cell_type": "code",
   "execution_count": 30,
   "id": "a14061a6",
   "metadata": {},
   "outputs": [
    {
     "name": "stdout",
     "output_type": "stream",
     "text": [
      "11\n"
     ]
    }
   ],
   "source": [
    "add = lambda a,b : a+b\n",
    "print(add(5,6))"
   ]
  },
  {
   "cell_type": "code",
   "execution_count": null,
   "id": "bc5c4b6f",
   "metadata": {},
   "outputs": [],
   "source": []
  }
 ],
 "metadata": {
  "kernelspec": {
   "display_name": "Python 3",
   "language": "python",
   "name": "python3"
  },
  "language_info": {
   "codemirror_mode": {
    "name": "ipython",
    "version": 3
   },
   "file_extension": ".py",
   "mimetype": "text/x-python",
   "name": "python",
   "nbconvert_exporter": "python",
   "pygments_lexer": "ipython3",
   "version": "3.8.8"
  }
 },
 "nbformat": 4,
 "nbformat_minor": 5
}
